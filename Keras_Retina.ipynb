{
  "nbformat": 4,
  "nbformat_minor": 0,
  "metadata": {
    "colab": {
      "name": "Keras-Retina.ipynb",
      "provenance": [],
      "collapsed_sections": [],
      "mount_file_id": "1sfrOZ9-iIQKZ_hMfmTFex8J1Mv1kxNQD",
      "authorship_tag": "ABX9TyOXwtBVEGk4EvMNdgBSS4R3",
      "include_colab_link": true
    },
    "kernelspec": {
      "name": "python3",
      "display_name": "Python 3"
    },
    "accelerator": "GPU"
  },
  "cells": [
    {
      "cell_type": "markdown",
      "metadata": {
        "id": "view-in-github",
        "colab_type": "text"
      },
      "source": [
        "<a href=\"https://colab.research.google.com/github/hieubkset/prv_colab/blob/master/Keras_Retina.ipynb\" target=\"_parent\"><img src=\"https://colab.research.google.com/assets/colab-badge.svg\" alt=\"Open In Colab\"/></a>"
      ]
    },
    {
      "cell_type": "code",
      "metadata": {
        "id": "SPzPJopDP-qv",
        "colab_type": "code",
        "colab": {}
      },
      "source": [
        "!cp -r '/content/keras-retinanet' '/content/drive/My Drive'"
      ],
      "execution_count": 0,
      "outputs": []
    },
    {
      "cell_type": "code",
      "metadata": {
        "id": "26iePUcoGJ0d",
        "colab_type": "code",
        "colab": {}
      },
      "source": [
        "!cp -r '/content/drive/My Drive/keras-retinanet' ."
      ],
      "execution_count": 0,
      "outputs": []
    },
    {
      "cell_type": "code",
      "metadata": {
        "id": "p2VLfj0bG6v9",
        "colab_type": "code",
        "colab": {}
      },
      "source": [
        "!mkdir keras-retinanet/data"
      ],
      "execution_count": 0,
      "outputs": []
    },
    {
      "cell_type": "code",
      "metadata": {
        "id": "bucW-w8oHKWa",
        "colab_type": "code",
        "colab": {}
      },
      "source": [
        "!cp '/content/drive/My Drive/Data-new/SL_26967/ICEYE_X4_GRD_SL_26967_20200419T201356.tif' keras-retinanet/data"
      ],
      "execution_count": 0,
      "outputs": []
    },
    {
      "cell_type": "code",
      "metadata": {
        "id": "qKDQrB-KHT5x",
        "colab_type": "code",
        "colab": {}
      },
      "source": [
        "import os\n",
        "os.chdir('keras-retinanet')"
      ],
      "execution_count": 0,
      "outputs": []
    },
    {
      "cell_type": "code",
      "metadata": {
        "id": "qmfUGFDDHt65",
        "colab_type": "code",
        "colab": {}
      },
      "source": [
        "!cp '/content/drive/My Drive/resnet50_pascal_24.h5' snapshots"
      ],
      "execution_count": 0,
      "outputs": []
    },
    {
      "cell_type": "code",
      "metadata": {
        "id": "7DpbYpydH5-k",
        "colab_type": "code",
        "colab": {}
      },
      "source": [
        "!python setup.py build_ext --inplace"
      ],
      "execution_count": 0,
      "outputs": []
    },
    {
      "cell_type": "code",
      "metadata": {
        "id": "UaJjK1u2IyHd",
        "colab_type": "code",
        "colab": {
          "base_uri": "https://localhost:8080/",
          "height": 496
        },
        "outputId": "5e2eb134-c0eb-453a-8f25-0e7a414ef493"
      },
      "source": [
        "!pip install . --user"
      ],
      "execution_count": 64,
      "outputs": [
        {
          "output_type": "stream",
          "text": [
            "Processing /content/keras-retinanet\n",
            "Requirement already satisfied: keras in /usr/local/lib/python3.6/dist-packages (from keras-retinanet==0.5.1) (2.3.1)\n",
            "Requirement already satisfied: keras-resnet==0.1.0 in /root/.local/lib/python3.6/site-packages (from keras-retinanet==0.5.1) (0.1.0)\n",
            "Requirement already satisfied: six in /usr/local/lib/python3.6/dist-packages (from keras-retinanet==0.5.1) (1.12.0)\n",
            "Requirement already satisfied: scipy in /usr/local/lib/python3.6/dist-packages (from keras-retinanet==0.5.1) (1.4.1)\n",
            "Requirement already satisfied: cython in /usr/local/lib/python3.6/dist-packages (from keras-retinanet==0.5.1) (0.29.17)\n",
            "Requirement already satisfied: Pillow in /usr/local/lib/python3.6/dist-packages (from keras-retinanet==0.5.1) (7.0.0)\n",
            "Requirement already satisfied: opencv-python in /usr/local/lib/python3.6/dist-packages (from keras-retinanet==0.5.1) (4.1.2.30)\n",
            "Requirement already satisfied: progressbar2 in /usr/local/lib/python3.6/dist-packages (from keras-retinanet==0.5.1) (3.38.0)\n",
            "Requirement already satisfied: pyyaml in /usr/local/lib/python3.6/dist-packages (from keras->keras-retinanet==0.5.1) (3.13)\n",
            "Requirement already satisfied: h5py in /usr/local/lib/python3.6/dist-packages (from keras->keras-retinanet==0.5.1) (2.10.0)\n",
            "Requirement already satisfied: keras-preprocessing>=1.0.5 in /usr/local/lib/python3.6/dist-packages (from keras->keras-retinanet==0.5.1) (1.1.0)\n",
            "Requirement already satisfied: numpy>=1.9.1 in /usr/local/lib/python3.6/dist-packages (from keras->keras-retinanet==0.5.1) (1.18.4)\n",
            "Requirement already satisfied: keras-applications>=1.0.6 in /usr/local/lib/python3.6/dist-packages (from keras->keras-retinanet==0.5.1) (1.0.8)\n",
            "Requirement already satisfied: python-utils>=2.3.0 in /usr/local/lib/python3.6/dist-packages (from progressbar2->keras-retinanet==0.5.1) (2.4.0)\n",
            "Building wheels for collected packages: keras-retinanet\n",
            "  Building wheel for keras-retinanet (setup.py) ... \u001b[?25l\u001b[?25hdone\n",
            "  Created wheel for keras-retinanet: filename=keras_retinanet-0.5.1-cp36-cp36m-linux_x86_64.whl size=174764 sha256=b80d45c186f7c35ccc399d6683f45160467f8bca324fe6ce765c2229e6e9f342\n",
            "  Stored in directory: /root/.cache/pip/wheels/b2/9f/57/cb0305f6f5a41fc3c11ad67b8cedfbe9127775b563337827ba\n",
            "Successfully built keras-retinanet\n",
            "Installing collected packages: keras-retinanet\n",
            "  Found existing installation: keras-retinanet 0.5.1\n",
            "    Uninstalling keras-retinanet-0.5.1:\n",
            "      Successfully uninstalled keras-retinanet-0.5.1\n",
            "\u001b[33m  WARNING: The scripts retinanet-convert-model, retinanet-debug, retinanet-evaluate and retinanet-train are installed in '/root/.local/bin' which is not on PATH.\n",
            "  Consider adding this directory to PATH or, if you prefer to suppress this warning, use --no-warn-script-location.\u001b[0m\n",
            "Successfully installed keras-retinanet-0.5.1\n"
          ],
          "name": "stdout"
        }
      ]
    },
    {
      "cell_type": "code",
      "metadata": {
        "id": "IBwZgbSHIFLf",
        "colab_type": "code",
        "colab": {}
      },
      "source": [
        "!python keras_retinanet/bin/convert_model.py snapshots/resnet50_pascal_24.h5 snapshots/convert.h5"
      ],
      "execution_count": 0,
      "outputs": []
    },
    {
      "cell_type": "code",
      "metadata": {
        "id": "TUXQd7n7QRPj",
        "colab_type": "code",
        "colab": {
          "base_uri": "https://localhost:8080/",
          "height": 190
        },
        "outputId": "2c04bdfe-c87a-46e4-a71b-ac50ea2653b1"
      },
      "source": [
        "!pip install rasterio"
      ],
      "execution_count": 71,
      "outputs": [
        {
          "output_type": "stream",
          "text": [
            "Requirement already satisfied: rasterio in /usr/local/lib/python3.6/dist-packages (1.1.4)\n",
            "Requirement already satisfied: numpy in /usr/local/lib/python3.6/dist-packages (from rasterio) (1.18.4)\n",
            "Requirement already satisfied: click<8,>=4.0 in /usr/local/lib/python3.6/dist-packages (from rasterio) (7.1.2)\n",
            "Requirement already satisfied: snuggs>=1.4.1 in /usr/local/lib/python3.6/dist-packages (from rasterio) (1.4.7)\n",
            "Requirement already satisfied: click-plugins in /usr/local/lib/python3.6/dist-packages (from rasterio) (1.1.1)\n",
            "Requirement already satisfied: cligj>=0.5 in /usr/local/lib/python3.6/dist-packages (from rasterio) (0.5.0)\n",
            "Requirement already satisfied: attrs in /usr/local/lib/python3.6/dist-packages (from rasterio) (19.3.0)\n",
            "Requirement already satisfied: affine in /usr/local/lib/python3.6/dist-packages (from rasterio) (2.3.0)\n",
            "Requirement already satisfied: pyparsing>=2.1.6 in /usr/local/lib/python3.6/dist-packages (from snuggs>=1.4.1->rasterio) (2.4.7)\n"
          ],
          "name": "stdout"
        }
      ]
    },
    {
      "cell_type": "code",
      "metadata": {
        "id": "bO4ZV8bhPKqn",
        "colab_type": "code",
        "colab": {
          "base_uri": "https://localhost:8080/",
          "height": 71
        },
        "outputId": "dde04433-c379-4578-cba9-2bd1ef7154d7"
      },
      "source": [
        "!python tif/converter.py"
      ],
      "execution_count": 36,
      "outputs": [
        {
          "output_type": "stream",
          "text": [
            "/usr/local/lib/python3.6/dist-packages/rasterio/__init__.py:218: NotGeoreferencedWarning: Dataset has no geotransform set. The identity matrix may be returned.\n",
            "  s = DatasetReader(path, driver=driver, sharing=sharing, **kwargs)\n"
          ],
          "name": "stdout"
        }
      ]
    },
    {
      "cell_type": "code",
      "metadata": {
        "id": "fMWiRrPRQUAF",
        "colab_type": "code",
        "colab": {}
      },
      "source": [
        "!python tif/bigfiletool.py"
      ],
      "execution_count": 0,
      "outputs": []
    },
    {
      "cell_type": "code",
      "metadata": {
        "id": "WTF8toOpfbHJ",
        "colab_type": "code",
        "colab": {}
      },
      "source": [
        "!mkdir output"
      ],
      "execution_count": 0,
      "outputs": []
    },
    {
      "cell_type": "code",
      "metadata": {
        "id": "bruLuJDnQf1C",
        "colab_type": "code",
        "colab": {
          "base_uri": "https://localhost:8080/",
          "height": 1000
        },
        "outputId": "9a82a65e-1ffd-4a7f-a35e-08963d76e268"
      },
      "source": [
        "!python tif/test.py"
      ],
      "execution_count": 0,
      "outputs": [
        {
          "output_type": "stream",
          "text": [
            "Using TensorFlow backend.\n",
            "2020-05-16 17:57:50.726484: I tensorflow/stream_executor/platform/default/dso_loader.cc:44] Successfully opened dynamic library libcudart.so.10.1\n",
            "2020-05-16 17:57:52.476368: I tensorflow/stream_executor/platform/default/dso_loader.cc:44] Successfully opened dynamic library libcuda.so.1\n",
            "2020-05-16 17:57:52.493956: I tensorflow/stream_executor/cuda/cuda_gpu_executor.cc:981] successful NUMA node read from SysFS had negative value (-1), but there must be at least one NUMA node, so returning NUMA node zero\n",
            "2020-05-16 17:57:52.494755: I tensorflow/core/common_runtime/gpu/gpu_device.cc:1561] Found device 0 with properties: \n",
            "pciBusID: 0000:00:04.0 name: Tesla P100-PCIE-16GB computeCapability: 6.0\n",
            "coreClock: 1.3285GHz coreCount: 56 deviceMemorySize: 15.90GiB deviceMemoryBandwidth: 681.88GiB/s\n",
            "2020-05-16 17:57:52.494804: I tensorflow/stream_executor/platform/default/dso_loader.cc:44] Successfully opened dynamic library libcudart.so.10.1\n",
            "2020-05-16 17:57:52.496851: I tensorflow/stream_executor/platform/default/dso_loader.cc:44] Successfully opened dynamic library libcublas.so.10\n",
            "2020-05-16 17:57:52.498608: I tensorflow/stream_executor/platform/default/dso_loader.cc:44] Successfully opened dynamic library libcufft.so.10\n",
            "2020-05-16 17:57:52.498917: I tensorflow/stream_executor/platform/default/dso_loader.cc:44] Successfully opened dynamic library libcurand.so.10\n",
            "2020-05-16 17:57:52.500670: I tensorflow/stream_executor/platform/default/dso_loader.cc:44] Successfully opened dynamic library libcusolver.so.10\n",
            "2020-05-16 17:57:52.501585: I tensorflow/stream_executor/platform/default/dso_loader.cc:44] Successfully opened dynamic library libcusparse.so.10\n",
            "2020-05-16 17:57:52.505298: I tensorflow/stream_executor/platform/default/dso_loader.cc:44] Successfully opened dynamic library libcudnn.so.7\n",
            "2020-05-16 17:57:52.505420: I tensorflow/stream_executor/cuda/cuda_gpu_executor.cc:981] successful NUMA node read from SysFS had negative value (-1), but there must be at least one NUMA node, so returning NUMA node zero\n",
            "2020-05-16 17:57:52.505950: I tensorflow/stream_executor/cuda/cuda_gpu_executor.cc:981] successful NUMA node read from SysFS had negative value (-1), but there must be at least one NUMA node, so returning NUMA node zero\n",
            "2020-05-16 17:57:52.506469: I tensorflow/core/common_runtime/gpu/gpu_device.cc:1703] Adding visible gpu devices: 0\n",
            "2020-05-16 17:57:52.511846: I tensorflow/core/platform/profile_utils/cpu_utils.cc:102] CPU Frequency: 2200000000 Hz\n",
            "2020-05-16 17:57:52.512053: I tensorflow/compiler/xla/service/service.cc:168] XLA service 0x23c5100 initialized for platform Host (this does not guarantee that XLA will be used). Devices:\n",
            "2020-05-16 17:57:52.512080: I tensorflow/compiler/xla/service/service.cc:176]   StreamExecutor device (0): Host, Default Version\n",
            "2020-05-16 17:57:52.598380: I tensorflow/stream_executor/cuda/cuda_gpu_executor.cc:981] successful NUMA node read from SysFS had negative value (-1), but there must be at least one NUMA node, so returning NUMA node zero\n",
            "2020-05-16 17:57:52.599187: I tensorflow/compiler/xla/service/service.cc:168] XLA service 0x23c52c0 initialized for platform CUDA (this does not guarantee that XLA will be used). Devices:\n",
            "2020-05-16 17:57:52.599216: I tensorflow/compiler/xla/service/service.cc:176]   StreamExecutor device (0): Tesla P100-PCIE-16GB, Compute Capability 6.0\n",
            "2020-05-16 17:57:52.599476: I tensorflow/stream_executor/cuda/cuda_gpu_executor.cc:981] successful NUMA node read from SysFS had negative value (-1), but there must be at least one NUMA node, so returning NUMA node zero\n",
            "2020-05-16 17:57:52.600003: I tensorflow/core/common_runtime/gpu/gpu_device.cc:1561] Found device 0 with properties: \n",
            "pciBusID: 0000:00:04.0 name: Tesla P100-PCIE-16GB computeCapability: 6.0\n",
            "coreClock: 1.3285GHz coreCount: 56 deviceMemorySize: 15.90GiB deviceMemoryBandwidth: 681.88GiB/s\n",
            "2020-05-16 17:57:52.600054: I tensorflow/stream_executor/platform/default/dso_loader.cc:44] Successfully opened dynamic library libcudart.so.10.1\n",
            "2020-05-16 17:57:52.600097: I tensorflow/stream_executor/platform/default/dso_loader.cc:44] Successfully opened dynamic library libcublas.so.10\n",
            "2020-05-16 17:57:52.600123: I tensorflow/stream_executor/platform/default/dso_loader.cc:44] Successfully opened dynamic library libcufft.so.10\n",
            "2020-05-16 17:57:52.600143: I tensorflow/stream_executor/platform/default/dso_loader.cc:44] Successfully opened dynamic library libcurand.so.10\n",
            "2020-05-16 17:57:52.600165: I tensorflow/stream_executor/platform/default/dso_loader.cc:44] Successfully opened dynamic library libcusolver.so.10\n",
            "2020-05-16 17:57:52.600187: I tensorflow/stream_executor/platform/default/dso_loader.cc:44] Successfully opened dynamic library libcusparse.so.10\n",
            "2020-05-16 17:57:52.600211: I tensorflow/stream_executor/platform/default/dso_loader.cc:44] Successfully opened dynamic library libcudnn.so.7\n",
            "2020-05-16 17:57:52.600277: I tensorflow/stream_executor/cuda/cuda_gpu_executor.cc:981] successful NUMA node read from SysFS had negative value (-1), but there must be at least one NUMA node, so returning NUMA node zero\n",
            "2020-05-16 17:57:52.600830: I tensorflow/stream_executor/cuda/cuda_gpu_executor.cc:981] successful NUMA node read from SysFS had negative value (-1), but there must be at least one NUMA node, so returning NUMA node zero\n",
            "2020-05-16 17:57:52.601305: I tensorflow/core/common_runtime/gpu/gpu_device.cc:1703] Adding visible gpu devices: 0\n",
            "2020-05-16 17:57:52.601393: I tensorflow/stream_executor/platform/default/dso_loader.cc:44] Successfully opened dynamic library libcudart.so.10.1\n",
            "2020-05-16 17:57:53.097655: I tensorflow/core/common_runtime/gpu/gpu_device.cc:1102] Device interconnect StreamExecutor with strength 1 edge matrix:\n",
            "2020-05-16 17:57:53.097713: I tensorflow/core/common_runtime/gpu/gpu_device.cc:1108]      0 \n",
            "2020-05-16 17:57:53.097726: I tensorflow/core/common_runtime/gpu/gpu_device.cc:1121] 0:   N \n",
            "2020-05-16 17:57:53.098008: I tensorflow/stream_executor/cuda/cuda_gpu_executor.cc:981] successful NUMA node read from SysFS had negative value (-1), but there must be at least one NUMA node, so returning NUMA node zero\n",
            "2020-05-16 17:57:53.098639: I tensorflow/stream_executor/cuda/cuda_gpu_executor.cc:981] successful NUMA node read from SysFS had negative value (-1), but there must be at least one NUMA node, so returning NUMA node zero\n",
            "2020-05-16 17:57:53.099172: I tensorflow/core/common_runtime/gpu/gpu_device.cc:1247] Created TensorFlow device (/job:localhost/replica:0/task:0/device:GPU:0 with 14974 MB memory) -> physical GPU (device: 0, name: Tesla P100-PCIE-16GB, pci bus id: 0000:00:04.0, compute capability: 6.0)\n",
            "1 Physical GPUs, 1 Logical GPUs\n",
            "tracking <tf.Variable 'Variable:0' shape=(9, 4) dtype=float32, numpy=\n",
            "array([[-22.627417, -11.313708,  22.627417,  11.313708],\n",
            "       [-28.50876 , -14.25438 ,  28.50876 ,  14.25438 ],\n",
            "       [-35.918785, -17.959393,  35.918785,  17.959393],\n",
            "       [-16.      , -16.      ,  16.      ,  16.      ],\n",
            "       [-20.158737, -20.158737,  20.158737,  20.158737],\n",
            "       [-25.398417, -25.398417,  25.398417,  25.398417],\n",
            "       [-11.313708, -22.627417,  11.313708,  22.627417],\n",
            "       [-14.25438 , -28.50876 ,  14.25438 ,  28.50876 ],\n",
            "       [-17.959393, -35.918785,  17.959393,  35.918785]], dtype=float32)> anchors\n",
            "tracking <tf.Variable 'Variable:0' shape=(9, 4) dtype=float32, numpy=\n",
            "array([[-45.254833, -22.627417,  45.254833,  22.627417],\n",
            "       [-57.01752 , -28.50876 ,  57.01752 ,  28.50876 ],\n",
            "       [-71.83757 , -35.918785,  71.83757 ,  35.918785],\n",
            "       [-32.      , -32.      ,  32.      ,  32.      ],\n",
            "       [-40.317474, -40.317474,  40.317474,  40.317474],\n",
            "       [-50.796833, -50.796833,  50.796833,  50.796833],\n",
            "       [-22.627417, -45.254833,  22.627417,  45.254833],\n",
            "       [-28.50876 , -57.01752 ,  28.50876 ,  57.01752 ],\n",
            "       [-35.918785, -71.83757 ,  35.918785,  71.83757 ]], dtype=float32)> anchors\n",
            "tracking <tf.Variable 'Variable:0' shape=(9, 4) dtype=float32, numpy=\n",
            "array([[ -90.50967 ,  -45.254833,   90.50967 ,   45.254833],\n",
            "       [-114.03504 ,  -57.01752 ,  114.03504 ,   57.01752 ],\n",
            "       [-143.67514 ,  -71.83757 ,  143.67514 ,   71.83757 ],\n",
            "       [ -64.      ,  -64.      ,   64.      ,   64.      ],\n",
            "       [ -80.63495 ,  -80.63495 ,   80.63495 ,   80.63495 ],\n",
            "       [-101.593666, -101.593666,  101.593666,  101.593666],\n",
            "       [ -45.254833,  -90.50967 ,   45.254833,   90.50967 ],\n",
            "       [ -57.01752 , -114.03504 ,   57.01752 ,  114.03504 ],\n",
            "       [ -71.83757 , -143.67514 ,   71.83757 ,  143.67514 ]],\n",
            "      dtype=float32)> anchors\n",
            "tracking <tf.Variable 'Variable:0' shape=(9, 4) dtype=float32, numpy=\n",
            "array([[-181.01933,  -90.50967,  181.01933,   90.50967],\n",
            "       [-228.07008, -114.03504,  228.07008,  114.03504],\n",
            "       [-287.35028, -143.67514,  287.35028,  143.67514],\n",
            "       [-128.     , -128.     ,  128.     ,  128.     ],\n",
            "       [-161.2699 , -161.2699 ,  161.2699 ,  161.2699 ],\n",
            "       [-203.18733, -203.18733,  203.18733,  203.18733],\n",
            "       [ -90.50967, -181.01933,   90.50967,  181.01933],\n",
            "       [-114.03504, -228.07008,  114.03504,  228.07008],\n",
            "       [-143.67514, -287.35028,  143.67514,  287.35028]], dtype=float32)> anchors\n",
            "tracking <tf.Variable 'Variable:0' shape=(9, 4) dtype=float32, numpy=\n",
            "array([[-362.03867, -181.01933,  362.03867,  181.01933],\n",
            "       [-456.14017, -228.07008,  456.14017,  228.07008],\n",
            "       [-574.70056, -287.35028,  574.70056,  287.35028],\n",
            "       [-256.     , -256.     ,  256.     ,  256.     ],\n",
            "       [-322.5398 , -322.5398 ,  322.5398 ,  322.5398 ],\n",
            "       [-406.37466, -406.37466,  406.37466,  406.37466],\n",
            "       [-181.01933, -362.03867,  181.01933,  362.03867],\n",
            "       [-228.07008, -456.14017,  228.07008,  456.14017],\n",
            "       [-287.35028, -574.70056,  287.35028,  574.70056]], dtype=float32)> anchors\n",
            "/usr/local/lib/python3.6/dist-packages/keras/engine/saving.py:341: UserWarning: No training configuration found in save file: the model was *not* compiled. Compile it manually.\n",
            "  warnings.warn('No training configuration found in save file: '\n",
            "2020-05-16 17:57:59.068662: I tensorflow/stream_executor/platform/default/dso_loader.cc:44] Successfully opened dynamic library libcudnn.so.7\n",
            "2020-05-16 17:57:59.974803: I tensorflow/stream_executor/platform/default/dso_loader.cc:44] Successfully opened dynamic library libcublas.so.10\n"
          ],
          "name": "stdout"
        }
      ]
    },
    {
      "cell_type": "code",
      "metadata": {
        "id": "R96zzDiYg_Fy",
        "colab_type": "code",
        "colab": {}
      },
      "source": [
        ""
      ],
      "execution_count": 0,
      "outputs": []
    }
  ]
}